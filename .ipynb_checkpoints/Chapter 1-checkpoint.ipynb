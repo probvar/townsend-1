{
 "cells": [
  {
   "cell_type": "markdown",
   "metadata": {},
   "source": [
    "# Stern-Gerlach Experiments\n",
    "*****\n",
    "## Example 1.1:\n",
    "A measurement of $S_z$ is carried out on a particle in the state: $|\\psi\\rangle=\\frac{1}{2}|+z\\rangle+\\frac{\\sqrt{3i}}{2}|-z\\rangle$. What are the possible results of this measurement and with what probability do these results occur?"
   ]
  },
  {
   "cell_type": "code",
   "execution_count": 1,
   "metadata": {},
   "outputs": [],
   "source": [
    "import matplotlib.pyplot as plt\n",
    "import numpy as np\n",
    "from qutip import *"
   ]
  },
  {
   "cell_type": "code",
   "execution_count": 2,
   "metadata": {},
   "outputs": [
    {
     "data": {
      "text/latex": [
       "Quantum object: dims = [[2], [1]], shape = (2, 1), type = ket\\begin{equation*}\\left(\\begin{array}{*{11}c}0.500\\\\0.866j\\\\\\end{array}\\right)\\end{equation*}"
      ],
      "text/plain": [
       "Quantum object: dims = [[2], [1]], shape = (2, 1), type = ket\n",
       "Qobj data =\n",
       "[[0.5+0.j       ]\n",
       " [0. +0.8660254j]]"
      ]
     },
     "execution_count": 2,
     "metadata": {},
     "output_type": "execute_result"
    }
   ],
   "source": [
    "posZ = basis(2,0)\n",
    "negZ = basis(2,1)\n",
    "psi = 1/2*posZ + np.sqrt(3)*1j/2*negZ\n",
    "psi"
   ]
  },
  {
   "cell_type": "code",
   "execution_count": 19,
   "metadata": {},
   "outputs": [
    {
     "name": "stdout",
     "output_type": "stream",
     "text": [
      "The probability of measuring psi in the positive Z-direction is 0.7499999999999999, while measuring psi in the negative Z-direction is 0.25.\n"
     ]
    }
   ],
   "source": [
    "mag1 = (negZ.dag()*psi).norm() ** 2 #probability of measuring psi in the positve z-axis direction\n",
    "mag2 = (psi.dag()*posZ).norm() ** 2 #same but negative z-axis\n",
    "print('The probability of measuring psi in the positive Z-direction is '+str(mag1)+', while measuring psi in the negative Z-direction is '+str(mag2)+'.')"
   ]
  },
  {
   "cell_type": "markdown",
   "metadata": {},
   "source": [
    "## Example 1.2:\n",
    "For the same particle in Example 1.1, what is the expectation value $\\langle S_z\\rangle$ and the uncertaintly $\\Delta S_z$ for this state?"
   ]
  },
  {
   "cell_type": "markdown",
   "metadata": {},
   "source": [
    "We will assume that $\\hbar$ has a value of 1 in this:"
   ]
  },
  {
   "cell_type": "code",
   "execution_count": 30,
   "metadata": {},
   "outputs": [
    {
     "data": {
      "text/plain": [
       "-0.24999999999999994"
      ]
     },
     "execution_count": 30,
     "metadata": {},
     "output_type": "execute_result"
    }
   ],
   "source": [
    "ExpSz = (posZ.dag()*psi).norm() ** 2 * 1/2 + (negZ.dag()*psi).norm() ** 2 *-1/2\n",
    "ExpSz"
   ]
  },
  {
   "cell_type": "markdown",
   "metadata": {},
   "source": [
    "The expectation value is $-0.25\\hbar$."
   ]
  },
  {
   "cell_type": "code",
   "execution_count": 28,
   "metadata": {},
   "outputs": [
    {
     "data": {
      "text/plain": [
       "0.4330127018922193"
      ]
     },
     "execution_count": 28,
     "metadata": {},
     "output_type": "execute_result"
    }
   ],
   "source": [
    "ExpSz2 = (posZ.dag()*psi).norm() ** 2 * (1/2)**2 + (negZ.dag()*psi).norm() ** 2 *(-1/2)**2\n",
    "DeltaSz=(Sz2-Sz**2)**.5\n",
    "DeltaSz"
   ]
  },
  {
   "cell_type": "markdown",
   "metadata": {},
   "source": [
    "The uncertainty in this measurement is $0.433\\hbar$."
   ]
  },
  {
   "cell_type": "markdown",
   "metadata": {},
   "source": [
    "## Example 1.3:\n",
    "For the same particle, what is the probability that a measurment of $S_y$ is in the positive direction? What is $S_y$ for this state?"
   ]
  },
  {
   "cell_type": "code",
   "execution_count": 32,
   "metadata": {},
   "outputs": [],
   "source": [
    "posY = 1/np.sqrt(2)*posZ+1j/np.sqrt(2)*negZ\n",
    "negY = 1/np.sqrt(2)*posZ-1j/np.sqrt(2)*negZ\n",
    "Sy = (posY.dag()*psi).norm()**2"
   ]
  },
  {
   "cell_type": "markdown",
   "metadata": {},
   "source": [
    "The probability of the measurement is $0.93$."
   ]
  },
  {
   "cell_type": "code",
   "execution_count": 41,
   "metadata": {},
   "outputs": [
    {
     "data": {
      "text/plain": [
       "0.4330127018922192"
      ]
     },
     "execution_count": 41,
     "metadata": {},
     "output_type": "execute_result"
    }
   ],
   "source": [
    "DeltaSy = Sy*1/2 + (1-Sy)*-1/2\n",
    "np.sqrt(3)/4"
   ]
  },
  {
   "cell_type": "markdown",
   "metadata": {},
   "source": [
    "Therefore, the expecation value $\\langle S_y\\rangle$ = $0.433\\hbar$."
   ]
  },
  {
   "cell_type": "markdown",
   "metadata": {},
   "source": [
    "## Question 1.8:\n",
    "The state of a $\\textrm{spin}-\\frac{1}{2}$ particle is given by $|\\psi_1\\rangle=\\frac{i}{\\sqrt{3}}|+z\\rangle+\\sqrt{\\frac{2}{3}}|-z\\rangle$. What are $\\langle S_z\\rangle$ and $\\Delta S_z$ for this state? Again, assume $\\hbar$ is $1$."
   ]
  },
  {
   "cell_type": "code",
   "execution_count": 48,
   "metadata": {},
   "outputs": [
    {
     "data": {
      "text/latex": [
       "Quantum object: dims = [[2], [1]], shape = (2, 1), type = ket\\begin{equation*}\\left(\\begin{array}{*{11}c}0.577j\\\\0.816\\\\\\end{array}\\right)\\end{equation*}"
      ],
      "text/plain": [
       "Quantum object: dims = [[2], [1]], shape = (2, 1), type = ket\n",
       "Qobj data =\n",
       "[[0.        +0.57735027j]\n",
       " [0.81649658+0.j        ]]"
      ]
     },
     "execution_count": 48,
     "metadata": {},
     "output_type": "execute_result"
    }
   ],
   "source": [
    "psi1 = 1j/np.sqrt(3)*posZ+np.sqrt(2/3)*negZ\n",
    "psi1"
   ]
  },
  {
   "cell_type": "code",
   "execution_count": 51,
   "metadata": {},
   "outputs": [
    {
     "data": {
      "text/plain": [
       "-0.1666666666666666"
      ]
     },
     "execution_count": 51,
     "metadata": {},
     "output_type": "execute_result"
    }
   ],
   "source": [
    "ExpSz = (posZ.dag()*psi1).norm()**2*1/2+(negZ.dag()*psi1).norm()**2*-1/2\n",
    "ExpSz"
   ]
  },
  {
   "cell_type": "code",
   "execution_count": 54,
   "metadata": {},
   "outputs": [
    {
     "data": {
      "text/plain": [
       "0.4714045207910317"
      ]
     },
     "execution_count": 54,
     "metadata": {},
     "output_type": "execute_result"
    }
   ],
   "source": [
    "ExpSz2 = (posZ.dag()*psi1).norm()**2*(1/2)**2+(negZ.dag()*psi1).norm()**2*(-1/2)**2\n",
    "DeltaSz = (ExpSz2-ExpSz**2)**.5\n",
    "DeltaSz"
   ]
  },
  {
   "cell_type": "code",
   "execution_count": 56,
   "metadata": {},
   "outputs": [
    {
     "data": {
      "text/latex": [
       "Quantum object: dims = [[5], [5]], shape = (5, 5), type = oper, isherm = True\\begin{equation*}\\left(\\begin{array}{*{11}c}0.0 & 0.0 & 0.0 & 0.0 & 0.0\\\\0.0 & 1.0 & 0.0 & 0.0 & 0.0\\\\0.0 & 0.0 & 2.0 & 0.0 & 0.0\\\\0.0 & 0.0 & 0.0 & 3.0 & 0.0\\\\0.0 & 0.0 & 0.0 & 0.0 & 4.0\\\\\\end{array}\\right)\\end{equation*}"
      ],
      "text/plain": [
       "Quantum object: dims = [[5], [5]], shape = (5, 5), type = oper, isherm = True\n",
       "Qobj data =\n",
       "[[0. 0. 0. 0. 0.]\n",
       " [0. 1. 0. 0. 0.]\n",
       " [0. 0. 2. 0. 0.]\n",
       " [0. 0. 0. 3. 0.]\n",
       " [0. 0. 0. 0. 4.]]"
      ]
     },
     "execution_count": 56,
     "metadata": {},
     "output_type": "execute_result"
    }
   ],
   "source": [
    "N= num(5)\n",
    "N"
   ]
  },
  {
   "cell_type": "code",
   "execution_count": null,
   "metadata": {},
   "outputs": [],
   "source": []
  }
 ],
 "metadata": {
  "kernelspec": {
   "display_name": "Python 3.7.3 64-bit ('base': conda)",
   "language": "python",
   "name": "python37364bitbaseconda2b2e490c45f6467bba876f9be8c47128"
  },
  "language_info": {
   "codemirror_mode": {
    "name": "ipython",
    "version": 3
   },
   "file_extension": ".py",
   "mimetype": "text/x-python",
   "name": "python",
   "nbconvert_exporter": "python",
   "pygments_lexer": "ipython3",
   "version": "3.7.3"
  }
 },
 "nbformat": 4,
 "nbformat_minor": 2
}
